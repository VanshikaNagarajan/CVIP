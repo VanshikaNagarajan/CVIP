{
 "cells": [
  {
   "cell_type": "code",
   "execution_count": 6,
   "id": "0239f0ee",
   "metadata": {},
   "outputs": [],
   "source": [
    "import joblib\n",
    "import pandas as pd\n",
    "import re\n",
    "from sklearn.feature_extraction.text import TfidfVectorizer\n",
    "from nltk.corpus import stopwords\n",
    "from nltk.tokenize import word_tokenize \n",
    "\n",
    "#to load the saved model \n",
    "BerNB = joblib.load('model_joblib.pkl')\n",
    "with open('tfidf_vectorizer.pkl', 'rb') as file:\n",
    "    loaded_tfidf_vectorizer = joblib.load(file)"
   ]
  },
  {
   "cell_type": "code",
   "execution_count": 7,
   "id": "addf3863",
   "metadata": {},
   "outputs": [
    {
     "name": "stdout",
     "output_type": "stream",
     "text": [
      "Enter a message: free entry in 2 a wkly comp to win fa cup final\n"
     ]
    }
   ],
   "source": [
    "def preprocess(text):\n",
    "    text = re.sub(r\"[^a-zA-Z]\", \" \", text)\n",
    "    words = word_tokenize(text)\n",
    "    stop_words = set(stopwords.words('english'))\n",
    "    words = [word for word in words if word not in stop_words]\n",
    "    return ' '.join(words)\n",
    "user_input = input(\"Enter a message: \")\n",
    "input_text = preprocess(user_input)\n",
    "input_vectorized = loaded_tfidf_vectorizer.transform([input_text])"
   ]
  },
  {
   "cell_type": "code",
   "execution_count": 8,
   "id": "a4ac5d42",
   "metadata": {},
   "outputs": [
    {
     "name": "stdout",
     "output_type": "stream",
     "text": [
      "Prediction if its ham or spam: spam\n"
     ]
    }
   ],
   "source": [
    "prediction = BerNB.predict(input_vectorized)\n",
    "print(\"Prediction if its ham or spam:\", prediction[0])\n"
   ]
  },
  {
   "cell_type": "code",
   "execution_count": null,
   "id": "40a33783",
   "metadata": {},
   "outputs": [],
   "source": []
  },
  {
   "cell_type": "code",
   "execution_count": null,
   "id": "ad9ee70f",
   "metadata": {},
   "outputs": [],
   "source": []
  }
 ],
 "metadata": {
  "kernelspec": {
   "display_name": "Python 3 (ipykernel)",
   "language": "python",
   "name": "python3"
  },
  "language_info": {
   "codemirror_mode": {
    "name": "ipython",
    "version": 3
   },
   "file_extension": ".py",
   "mimetype": "text/x-python",
   "name": "python",
   "nbconvert_exporter": "python",
   "pygments_lexer": "ipython3",
   "version": "3.11.3"
  }
 },
 "nbformat": 4,
 "nbformat_minor": 5
}
