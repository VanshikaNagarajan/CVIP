{
 "cells": [
  {
   "cell_type": "code",
   "execution_count": 1,
   "id": "df459501",
   "metadata": {},
   "outputs": [
    {
     "name": "stdout",
     "output_type": "stream",
     "text": [
      "Enter ID: 127645\n",
      "Enter feature 1: 5\n",
      "Enter feature 2: 8\n",
      "Enter feature 3: 6\n",
      "Enter feature 4: 3\n",
      "Enter feature 5: 9\n",
      "Enter feature 6: 10\n",
      "Enter feature 7: 4\n",
      "Enter feature 8: 7\n",
      "Enter feature 9: 4\n",
      "Malignant\n"
     ]
    },
    {
     "name": "stderr",
     "output_type": "stream",
     "text": [
      "/Users/vanshika/anaconda3/lib/python3.11/site-packages/sklearn/base.py:439: UserWarning: X does not have valid feature names, but RandomForestClassifier was fitted with feature names\n",
      "  warnings.warn(\n"
     ]
    }
   ],
   "source": [
    "#to import necessary libraries \n",
    "import joblib\n",
    "import pandas as pd\n",
    "\n",
    "#to load the saved model \n",
    "rf = joblib.load('model_joblib.pkl')\n",
    "\n",
    "#to perform the user input frame\n",
    "def predict(user_input):\n",
    "    user_df = pd.DataFrame([user_input])\n",
    "    predictions = rf.predict(user_df)\n",
    "    return predictions \n",
    "feature_id = int(input(\"Enter ID: \"))\n",
    "feature_1 = float(input(\"Enter feature 1: \"))\n",
    "feature_2 = float(input(\"Enter feature 2: \"))\n",
    "feature_3 = float(input(\"Enter feature 3: \"))\n",
    "feature_4 = float(input(\"Enter feature 4: \"))\n",
    "feature_5 = float(input(\"Enter feature 5: \"))\n",
    "feature_6 = float(input(\"Enter feature 6: \"))\n",
    "feature_7 = float(input(\"Enter feature 7: \"))\n",
    "feature_8 = float(input(\"Enter feature 8: \"))\n",
    "feature_9 = float(input(\"Enter feature 9: \"))\n",
    "\n",
    "user_data = [feature_id, feature_1, feature_2, feature_3, feature_4, feature_5, feature_6, feature_7, feature_8, feature_9]\n",
    "predictions = predict(user_data)\n",
    "\n",
    "if predictions == 0:\n",
    "    print(\"Benign\")\n",
    "else:\n",
    "    print(\"Malignant\")"
   ]
  },
  {
   "cell_type": "code",
   "execution_count": null,
   "id": "ae323a20",
   "metadata": {},
   "outputs": [],
   "source": []
  }
 ],
 "metadata": {
  "kernelspec": {
   "display_name": "Python 3 (ipykernel)",
   "language": "python",
   "name": "python3"
  },
  "language_info": {
   "codemirror_mode": {
    "name": "ipython",
    "version": 3
   },
   "file_extension": ".py",
   "mimetype": "text/x-python",
   "name": "python",
   "nbconvert_exporter": "python",
   "pygments_lexer": "ipython3",
   "version": "3.11.3"
  }
 },
 "nbformat": 4,
 "nbformat_minor": 5
}
